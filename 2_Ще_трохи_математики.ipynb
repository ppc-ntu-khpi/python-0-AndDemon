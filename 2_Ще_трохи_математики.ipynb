{
  "nbformat": 4,
  "nbformat_minor": 0,
  "metadata": {
    "colab": {
      "name": "2. Ще трохи математики",
      "provenance": [],
      "toc_visible": true
    },
    "kernelspec": {
      "name": "python3",
      "display_name": "Python 3"
    },
    "language_info": {
      "name": "python"
    }
  },
  "cells": [
    {
      "cell_type": "markdown",
      "metadata": {
        "id": "nspjmpTrxgZS"
      },
      "source": [
        "# Ще трохи математики"
      ]
    },
    {
      "cell_type": "markdown",
      "metadata": {
        "id": "9NqHzlZ2xtID"
      },
      "source": [
        "1. Обчисліть радіус кола, знаючи його площу. Нагадаємо формулу:\n",
        "$$\n",
        "  S=\\pi*R^2 => R =\\sqrt{\\frac{S}{\\pi}}\n",
        "$$\n",
        "Для обчислення скористаємось знайомими функціями ```sqrt``` та ```pi``` з пакету ```math```.\n"
      ]
    },
    {
      "cell_type": "code",
      "metadata": {
        "colab": {
          "base_uri": "https://localhost:8080/"
        },
        "id": "csfYPusD0mWX",
        "outputId": "5a8d5842-c225-4ea2-c1ae-e2e624fab7dd"
      },
      "source": [
        "from math import sqrt,pi\n",
        "S = float(input('Введіть площу кола: '))\n",
        "r = sqrt(S/pi)\n",
        "print ('Радіус дорівнює %6.3f см' %r)"
      ],
      "execution_count": 1,
      "outputs": [
        {
          "output_type": "stream",
          "name": "stdout",
          "text": [
            "Введіть площу кола: 25\n",
            "Радіус дорівнює  2.821 см\n"
          ]
        }
      ]
    },
    {
      "cell_type": "markdown",
      "metadata": {
        "id": "e7Ed3mEp11Rw"
      },
      "source": [
        "2. А тепер за зразком знайдіть в наступній комірці площу сфери та об'єм кулі. Нагадуємо формули:\n",
        "$$\n",
        "  S=4*\\pi*R^2    \n",
        "$$\n",
        "$$\n",
        "  V=\\frac{4}{3}*\\pi*R^3\n",
        "$$\n",
        "Також нагадаємо, що ступінь в Python задається так: ```**```"
      ]
    },
    {
      "cell_type": "code",
      "metadata": {
        "id": "sTFMO4Xp3fgO",
        "outputId": "b089029e-f4bb-4c27-dc9f-fddc2c5f47ec",
        "colab": {
          "base_uri": "https://localhost:8080/"
        }
      },
      "source": [
        "from math import sqrt,pi\n",
        "S = float(input('Введіть радіус сфери: '))\n",
        "V = float(input('Введіть радіус кулі: '))\n",
        "Sf = 4 * pi * S**2\n",
        "Vk = (4/3) * pi * V**3\n",
        "print ('Площа сфери дорівнює %6.3f ' %Sf)\n",
        "print ('Обєм кулі дорівнює %6.3f ' %Vk)"
      ],
      "execution_count": 2,
      "outputs": [
        {
          "output_type": "stream",
          "name": "stdout",
          "text": [
            "Введіть радіус сфери: 25\n",
            "Введіть радіус кулі: 25\n",
            "Площа сфери дорівнює 7853.982 \n",
            "Обєм кулі дорівнює 65449.847 \n"
          ]
        }
      ]
    },
    {
      "cell_type": "code",
      "source": [
        "from math import sqrt,pi\n",
        "S = float(input('Введіть радіус сфери: '))\n",
        "V = float(input('Введіть радіус кулі: '))\n",
        "Sf = 4 * pi * S**2\n",
        "Vk = (4/3) * pi * V**3\n",
        "print ('Площа сфери дорівнює %6.3f ' %Sf)\n",
        "print ('Обєм кулі дорівнює %6.3f ' %Vk)"
      ],
      "metadata": {
        "id": "ps6hfDRsEPvj",
        "outputId": "4d312ae3-2f95-4930-9754-960bc1154955",
        "colab": {
          "base_uri": "https://localhost:8080/"
        }
      },
      "execution_count": 4,
      "outputs": [
        {
          "output_type": "stream",
          "name": "stdout",
          "text": [
            "Введіть радіус сфери: 6\n",
            "Введіть радіус кулі: 4\n",
            "Площа сфери дорівнює 452.389 \n",
            "Обєм кулі дорівнює 268.083 \n"
          ]
        }
      ]
    },
    {
      "cell_type": "markdown",
      "metadata": {
        "id": "Ki46Slel5ASd"
      },
      "source": [
        "3. А ще давайте переведемо температуру за Фаренгейтом у градуси Цельсія і навпаки. Формули тут надзвичайно прості:\n",
        "$$\n",
        "  C=(F-32)*0.5556\n",
        "$$\n",
        "$$\n",
        "  F=C*1.8+32\n",
        "$$\n",
        "Спробуйте в наступній комірці! Пам'ятайте про \"красиве\" введення і виведення даних."
      ]
    },
    {
      "cell_type": "code",
      "metadata": {
        "id": "8yhfAwYm5E_z",
        "outputId": "cc1d5eb6-d343-40aa-8238-20401db334fe",
        "colab": {
          "base_uri": "https://localhost:8080/"
        }
      },
      "source": [
        "from math import sqrt,pi\n",
        "F = float(input('Введіть температуру за Фаренгейтом: '))\n",
        "C = float(input('Введіть температуру за Цельсія: '))\n",
        "Fc = (F - 32)* 0.5556\n",
        "Cf = C * 1.8 + 32\n",
        "print ('температуру за Фаренгейтом у градуси Цельсія  %6.3f ' %Fc)\n",
        "print ('температуру за Цельсія у градуси Фаренгейтом  %6.3f ' %Cf)"
      ],
      "execution_count": 3,
      "outputs": [
        {
          "output_type": "stream",
          "name": "stdout",
          "text": [
            "Введіть температуру за Фаренгейтом: 87\n",
            "Введіть температуру за Цельсія: 30\n",
            "температуру за Фаренгейтом у градуси Цельсія  30.558 \n",
            "температуру за Цельсія у градуси Фаренгейтом  86.000 \n"
          ]
        }
      ]
    },
    {
      "cell_type": "markdown",
      "metadata": {
        "id": "rnapogmC6dta"
      },
      "source": [
        "Ще більше простих вправ з Python - [тут](https://www.w3resource.com/python-exercises/python-basic-exercises.php)"
      ]
    }
  ]
}